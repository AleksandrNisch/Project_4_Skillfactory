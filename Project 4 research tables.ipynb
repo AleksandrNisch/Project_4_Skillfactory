{
 "cells": [
  {
   "cell_type": "code",
   "execution_count": null,
   "metadata": {},
   "outputs": [],
   "source": [
    "import numpy as np\n",
    "import pandas as pd\n",
    "import seaborn as sns\n",
    "import matplotlib.pyplot as plt\n",
    "from collections import Counter"
   ]
  },
  {
   "cell_type": "code",
   "execution_count": null,
   "metadata": {},
   "outputs": [],
   "source": [
    "data = pd.read_csv('C://Users//А4//projects//Projects//module_4//data project 4.csv')\n",
    "data.sample(5)"
   ]
  },
  {
   "cell_type": "code",
   "execution_count": 16,
   "metadata": {},
   "outputs": [
    {
     "data": {
      "text/html": [
       "<div>\n",
       "<style scoped>\n",
       "    .dataframe tbody tr th:only-of-type {\n",
       "        vertical-align: middle;\n",
       "    }\n",
       "\n",
       "    .dataframe tbody tr th {\n",
       "        vertical-align: top;\n",
       "    }\n",
       "\n",
       "    .dataframe thead th {\n",
       "        text-align: right;\n",
       "    }\n",
       "</style>\n",
       "<table border=\"1\" class=\"dataframe\">\n",
       "  <thead>\n",
       "    <tr style=\"text-align: right;\">\n",
       "      <th></th>\n",
       "      <th>flight_id</th>\n",
       "      <th>range</th>\n",
       "      <th>total_amount</th>\n",
       "      <th>count_seat_economy</th>\n",
       "      <th>count_seat_business</th>\n",
       "      <th>total_amount_business</th>\n",
       "    </tr>\n",
       "  </thead>\n",
       "  <tbody>\n",
       "    <tr>\n",
       "      <th>count</th>\n",
       "      <td>193.000000</td>\n",
       "      <td>193.000000</td>\n",
       "      <td>1.800000e+02</td>\n",
       "      <td>193.000000</td>\n",
       "      <td>193.0</td>\n",
       "      <td>180.000000</td>\n",
       "    </tr>\n",
       "    <tr>\n",
       "      <th>mean</th>\n",
       "      <td>136540.466321</td>\n",
       "      <td>3640.414508</td>\n",
       "      <td>1.179647e+06</td>\n",
       "      <td>102.611399</td>\n",
       "      <td>12.0</td>\n",
       "      <td>297346.666667</td>\n",
       "    </tr>\n",
       "    <tr>\n",
       "      <th>std</th>\n",
       "      <td>249.389171</td>\n",
       "      <td>600.194269</td>\n",
       "      <td>4.811836e+05</td>\n",
       "      <td>16.505342</td>\n",
       "      <td>0.0</td>\n",
       "      <td>96237.646613</td>\n",
       "    </tr>\n",
       "    <tr>\n",
       "      <th>min</th>\n",
       "      <td>136119.000000</td>\n",
       "      <td>3000.000000</td>\n",
       "      <td>5.310000e+05</td>\n",
       "      <td>85.000000</td>\n",
       "      <td>12.0</td>\n",
       "      <td>113400.000000</td>\n",
       "    </tr>\n",
       "    <tr>\n",
       "      <th>25%</th>\n",
       "      <td>136320.000000</td>\n",
       "      <td>3000.000000</td>\n",
       "      <td>7.385250e+05</td>\n",
       "      <td>85.000000</td>\n",
       "      <td>12.0</td>\n",
       "      <td>226800.000000</td>\n",
       "    </tr>\n",
       "    <tr>\n",
       "      <th>50%</th>\n",
       "      <td>136534.000000</td>\n",
       "      <td>4200.000000</td>\n",
       "      <td>1.068850e+06</td>\n",
       "      <td>118.000000</td>\n",
       "      <td>12.0</td>\n",
       "      <td>226800.000000</td>\n",
       "    </tr>\n",
       "    <tr>\n",
       "      <th>75%</th>\n",
       "      <td>136768.000000</td>\n",
       "      <td>4200.000000</td>\n",
       "      <td>1.631950e+06</td>\n",
       "      <td>118.000000</td>\n",
       "      <td>12.0</td>\n",
       "      <td>402600.000000</td>\n",
       "    </tr>\n",
       "    <tr>\n",
       "      <th>max</th>\n",
       "      <td>136961.000000</td>\n",
       "      <td>4200.000000</td>\n",
       "      <td>1.886000e+06</td>\n",
       "      <td>118.000000</td>\n",
       "      <td>12.0</td>\n",
       "      <td>439200.000000</td>\n",
       "    </tr>\n",
       "  </tbody>\n",
       "</table>\n",
       "</div>"
      ],
      "text/plain": [
       "           flight_id        range  total_amount  count_seat_economy  \\\n",
       "count     193.000000   193.000000  1.800000e+02          193.000000   \n",
       "mean   136540.466321  3640.414508  1.179647e+06          102.611399   \n",
       "std       249.389171   600.194269  4.811836e+05           16.505342   \n",
       "min    136119.000000  3000.000000  5.310000e+05           85.000000   \n",
       "25%    136320.000000  3000.000000  7.385250e+05           85.000000   \n",
       "50%    136534.000000  4200.000000  1.068850e+06          118.000000   \n",
       "75%    136768.000000  4200.000000  1.631950e+06          118.000000   \n",
       "max    136961.000000  4200.000000  1.886000e+06          118.000000   \n",
       "\n",
       "       count_seat_business  total_amount_business  \n",
       "count                193.0             180.000000  \n",
       "mean                  12.0          297346.666667  \n",
       "std                    0.0           96237.646613  \n",
       "min                   12.0          113400.000000  \n",
       "25%                   12.0          226800.000000  \n",
       "50%                   12.0          226800.000000  \n",
       "75%                   12.0          402600.000000  \n",
       "max                   12.0          439200.000000  "
      ]
     },
     "execution_count": 16,
     "metadata": {},
     "output_type": "execute_result"
    }
   ],
   "source": [
    "data.describe()"
   ]
  },
  {
   "cell_type": "code",
   "execution_count": 17,
   "metadata": {},
   "outputs": [
    {
     "name": "stdout",
     "output_type": "stream",
     "text": [
      "<class 'pandas.core.frame.DataFrame'>\n",
      "RangeIndex: 193 entries, 0 to 192\n",
      "Data columns (total 12 columns):\n",
      " #   Column                 Non-Null Count  Dtype  \n",
      "---  ------                 --------------  -----  \n",
      " 0   flight_id              193 non-null    int64  \n",
      " 1   flight_no              193 non-null    object \n",
      " 2   departure_airport      193 non-null    object \n",
      " 3   arrival_airport        193 non-null    object \n",
      " 4   model                  193 non-null    object \n",
      " 5   actual_departure       193 non-null    object \n",
      " 6   actual_arrival         193 non-null    object \n",
      " 7   range                  193 non-null    int64  \n",
      " 8   total_amount           180 non-null    float64\n",
      " 9   count_seat_economy     193 non-null    int64  \n",
      " 10  count_seat_business    193 non-null    int64  \n",
      " 11  total_amount_business  180 non-null    float64\n",
      "dtypes: float64(2), int64(4), object(6)\n",
      "memory usage: 18.2+ KB\n"
     ]
    }
   ],
   "source": [
    "data.info()"
   ]
  },
  {
   "cell_type": "code",
   "execution_count": 18,
   "metadata": {},
   "outputs": [
    {
     "data": {
      "text/plain": [
       "flight_id                 0\n",
       "flight_no                 0\n",
       "departure_airport         0\n",
       "arrival_airport           0\n",
       "model                     0\n",
       "actual_departure          0\n",
       "actual_arrival            0\n",
       "range                     0\n",
       "total_amount             13\n",
       "count_seat_economy        0\n",
       "count_seat_business       0\n",
       "total_amount_business    13\n",
       "dtype: int64"
      ]
     },
     "execution_count": 18,
     "metadata": {},
     "output_type": "execute_result"
    }
   ],
   "source": [
    "# при просмотре таблицы видно, что для Новокузнецка нет данных total_amount\n",
    "pd.isnull(data).sum()"
   ]
  },
  {
   "cell_type": "code",
   "execution_count": 19,
   "metadata": {},
   "outputs": [
    {
     "data": {
      "text/plain": [
       "flight_id                0\n",
       "flight_no                0\n",
       "departure_airport        0\n",
       "arrival_airport          0\n",
       "model                    0\n",
       "actual_departure         0\n",
       "actual_arrival           0\n",
       "range                    0\n",
       "total_amount             0\n",
       "count_seat_economy       0\n",
       "count_seat_business      0\n",
       "total_amount_business    0\n",
       "dtype: int64"
      ]
     },
     "execution_count": 19,
     "metadata": {},
     "output_type": "execute_result"
    }
   ],
   "source": [
    "# удаляем строки с нулевым значением в столбце total_amount\n",
    "data1 = data.dropna(subset=['total_amount'])\n",
    "pd.isnull(data1).sum()"
   ]
  },
  {
   "cell_type": "code",
   "execution_count": 20,
   "metadata": {},
   "outputs": [
    {
     "data": {
      "text/html": [
       "<div>\n",
       "<style scoped>\n",
       "    .dataframe tbody tr th:only-of-type {\n",
       "        vertical-align: middle;\n",
       "    }\n",
       "\n",
       "    .dataframe tbody tr th {\n",
       "        vertical-align: top;\n",
       "    }\n",
       "\n",
       "    .dataframe thead th {\n",
       "        text-align: right;\n",
       "    }\n",
       "</style>\n",
       "<table border=\"1\" class=\"dataframe\">\n",
       "  <thead>\n",
       "    <tr style=\"text-align: right;\">\n",
       "      <th></th>\n",
       "      <th>flight_id</th>\n",
       "      <th>flight_no</th>\n",
       "      <th>departure_airport</th>\n",
       "      <th>arrival_airport</th>\n",
       "      <th>model</th>\n",
       "      <th>actual_departure</th>\n",
       "      <th>actual_arrival</th>\n",
       "      <th>total_amount</th>\n",
       "      <th>count_seat_economy</th>\n",
       "      <th>count_seat_business</th>\n",
       "      <th>total_amount_business</th>\n",
       "    </tr>\n",
       "  </thead>\n",
       "  <tbody>\n",
       "    <tr>\n",
       "      <th>0</th>\n",
       "      <td>136119</td>\n",
       "      <td>PG0252</td>\n",
       "      <td>AAQ</td>\n",
       "      <td>SVO</td>\n",
       "      <td>Boeing 737-300</td>\n",
       "      <td>2017-01-03T10:08:00Z</td>\n",
       "      <td>2017-01-03T11:49:00Z</td>\n",
       "      <td>1653000.0</td>\n",
       "      <td>118</td>\n",
       "      <td>12</td>\n",
       "      <td>402600.0</td>\n",
       "    </tr>\n",
       "    <tr>\n",
       "      <th>1</th>\n",
       "      <td>136120</td>\n",
       "      <td>PG0252</td>\n",
       "      <td>AAQ</td>\n",
       "      <td>SVO</td>\n",
       "      <td>Boeing 737-300</td>\n",
       "      <td>2017-02-24T10:07:00Z</td>\n",
       "      <td>2017-02-24T11:46:00Z</td>\n",
       "      <td>1605400.0</td>\n",
       "      <td>118</td>\n",
       "      <td>12</td>\n",
       "      <td>402600.0</td>\n",
       "    </tr>\n",
       "  </tbody>\n",
       "</table>\n",
       "</div>"
      ],
      "text/plain": [
       "   flight_id flight_no departure_airport arrival_airport           model  \\\n",
       "0     136119    PG0252               AAQ             SVO  Boeing 737-300   \n",
       "1     136120    PG0252               AAQ             SVO  Boeing 737-300   \n",
       "\n",
       "       actual_departure        actual_arrival  total_amount  \\\n",
       "0  2017-01-03T10:08:00Z  2017-01-03T11:49:00Z     1653000.0   \n",
       "1  2017-02-24T10:07:00Z  2017-02-24T11:46:00Z     1605400.0   \n",
       "\n",
       "   count_seat_economy  count_seat_business  total_amount_business  \n",
       "0                 118                   12               402600.0  \n",
       "1                 118                   12               402600.0  "
      ]
     },
     "execution_count": 20,
     "metadata": {},
     "output_type": "execute_result"
    }
   ],
   "source": [
    "data1.pop('range')\n",
    "data1.head(2)"
   ]
  },
  {
   "cell_type": "code",
   "execution_count": null,
   "metadata": {},
   "outputs": [],
   "source": [
    "# Предположим, что Цена авиационного топлива за тонну 2017\n",
    "# https://regionneftesbit.ru/cena-aviacionnogo-topliva-za-tonnu-2017/\n",
    "# 37 рублей за 1 кг или 37000 рублей за тонну   \n",
    "# Цену в модели можно уточнить, если найдется дополнение"
   ]
  },
  {
   "cell_type": "code",
   "execution_count": 26,
   "metadata": {},
   "outputs": [
    {
     "name": "stderr",
     "output_type": "stream",
     "text": [
      "<ipython-input-26-2b6a271e125f>:2: SettingWithCopyWarning: \n",
      "A value is trying to be set on a copy of a slice from a DataFrame.\n",
      "Try using .loc[row_indexer,col_indexer] = value instead\n",
      "\n",
      "See the caveats in the documentation: https://pandas.pydata.org/pandas-docs/stable/user_guide/indexing.html#returning-a-view-versus-a-copy\n",
      "  data1['fuel_cost'] = np.repeat(id_list, 180)\n"
     ]
    },
    {
     "data": {
      "text/html": [
       "<div>\n",
       "<style scoped>\n",
       "    .dataframe tbody tr th:only-of-type {\n",
       "        vertical-align: middle;\n",
       "    }\n",
       "\n",
       "    .dataframe tbody tr th {\n",
       "        vertical-align: top;\n",
       "    }\n",
       "\n",
       "    .dataframe thead th {\n",
       "        text-align: right;\n",
       "    }\n",
       "</style>\n",
       "<table border=\"1\" class=\"dataframe\">\n",
       "  <thead>\n",
       "    <tr style=\"text-align: right;\">\n",
       "      <th></th>\n",
       "      <th>flight_id</th>\n",
       "      <th>flight_no</th>\n",
       "      <th>departure_airport</th>\n",
       "      <th>arrival_airport</th>\n",
       "      <th>model</th>\n",
       "      <th>actual_departure</th>\n",
       "      <th>actual_arrival</th>\n",
       "      <th>total_amount</th>\n",
       "      <th>count_seat_economy</th>\n",
       "      <th>count_seat_business</th>\n",
       "      <th>total_amount_business</th>\n",
       "      <th>fuel_cost</th>\n",
       "    </tr>\n",
       "  </thead>\n",
       "  <tbody>\n",
       "    <tr>\n",
       "      <th>0</th>\n",
       "      <td>136119</td>\n",
       "      <td>PG0252</td>\n",
       "      <td>AAQ</td>\n",
       "      <td>SVO</td>\n",
       "      <td>Boeing 737-300</td>\n",
       "      <td>2017-01-03T10:08:00Z</td>\n",
       "      <td>2017-01-03T11:49:00Z</td>\n",
       "      <td>1653000.0</td>\n",
       "      <td>118</td>\n",
       "      <td>12</td>\n",
       "      <td>402600.0</td>\n",
       "      <td>1</td>\n",
       "    </tr>\n",
       "  </tbody>\n",
       "</table>\n",
       "</div>"
      ],
      "text/plain": [
       "   flight_id flight_no departure_airport arrival_airport           model  \\\n",
       "0     136119    PG0252               AAQ             SVO  Boeing 737-300   \n",
       "\n",
       "       actual_departure        actual_arrival  total_amount  \\\n",
       "0  2017-01-03T10:08:00Z  2017-01-03T11:49:00Z     1653000.0   \n",
       "\n",
       "   count_seat_economy  count_seat_business  total_amount_business fuel_cost  \n",
       "0                 118                   12               402600.0         1  "
      ]
     },
     "execution_count": 26,
     "metadata": {},
     "output_type": "execute_result"
    }
   ],
   "source": [
    "id_list = [\"1\"]\n",
    "data1['fuel_cost'] = np.repeat(id_list, 180)\n",
    "data1.head(1)"
   ]
  },
  {
   "cell_type": "code",
   "execution_count": 31,
   "metadata": {},
   "outputs": [
    {
     "name": "stderr",
     "output_type": "stream",
     "text": [
      "<ipython-input-31-371eea92d64e>:1: SettingWithCopyWarning: \n",
      "A value is trying to be set on a copy of a slice from a DataFrame.\n",
      "Try using .loc[row_indexer,col_indexer] = value instead\n",
      "\n",
      "See the caveats in the documentation: https://pandas.pydata.org/pandas-docs/stable/user_guide/indexing.html#returning-a-view-versus-a-copy\n",
      "  data1['fuel_cost'] = data1['fuel_cost'].apply(pd.to_numeric)\n"
     ]
    }
   ],
   "source": [
    "# преобразуем столбец fuel_cost в числовой формат \n",
    "data1['fuel_cost'] = data1['fuel_cost'].apply(pd.to_numeric)"
   ]
  },
  {
   "cell_type": "code",
   "execution_count": 32,
   "metadata": {},
   "outputs": [
    {
     "name": "stdout",
     "output_type": "stream",
     "text": [
      "<class 'pandas.core.frame.DataFrame'>\n",
      "Int64Index: 180 entries, 0 to 192\n",
      "Data columns (total 12 columns):\n",
      " #   Column                 Non-Null Count  Dtype  \n",
      "---  ------                 --------------  -----  \n",
      " 0   flight_id              180 non-null    int64  \n",
      " 1   flight_no              180 non-null    object \n",
      " 2   departure_airport      180 non-null    object \n",
      " 3   arrival_airport        180 non-null    object \n",
      " 4   model                  180 non-null    object \n",
      " 5   actual_departure       180 non-null    object \n",
      " 6   actual_arrival         180 non-null    object \n",
      " 7   total_amount           180 non-null    float64\n",
      " 8   count_seat_economy     180 non-null    int64  \n",
      " 9   count_seat_business    180 non-null    int64  \n",
      " 10  total_amount_business  180 non-null    float64\n",
      " 11  fuel_cost              180 non-null    int64  \n",
      "dtypes: float64(2), int64(4), object(6)\n",
      "memory usage: 18.3+ KB\n"
     ]
    }
   ],
   "source": [
    "data1.info()"
   ]
  },
  {
   "cell_type": "code",
   "execution_count": 5,
   "metadata": {},
   "outputs": [],
   "source": [
    "# Для SSJ, минимальный часовой расход обеспечивается на М = 0.75, а вот минимальный километровый — на М = 0.78…0.79. \n",
    "# http://superjet.wikidot.com/wiki:rashod-topliva\n",
    "# https://aviation21.ru/sukhoj-superjet-100/\n",
    "# Итого, за январь: 1,670 кг/ч"
   ]
  },
  {
   "cell_type": "code",
   "execution_count": null,
   "metadata": {},
   "outputs": [],
   "source": []
  },
  {
   "cell_type": "code",
   "execution_count": null,
   "metadata": {},
   "outputs": [],
   "source": []
  },
  {
   "cell_type": "code",
   "execution_count": null,
   "metadata": {},
   "outputs": [],
   "source": []
  },
  {
   "cell_type": "code",
   "execution_count": null,
   "metadata": {},
   "outputs": [],
   "source": []
  },
  {
   "cell_type": "code",
   "execution_count": null,
   "metadata": {},
   "outputs": [],
   "source": []
  },
  {
   "cell_type": "code",
   "execution_count": null,
   "metadata": {},
   "outputs": [],
   "source": []
  },
  {
   "cell_type": "code",
   "execution_count": null,
   "metadata": {},
   "outputs": [],
   "source": []
  },
  {
   "cell_type": "code",
   "execution_count": null,
   "metadata": {},
   "outputs": [],
   "source": []
  },
  {
   "cell_type": "code",
   "execution_count": null,
   "metadata": {},
   "outputs": [],
   "source": []
  },
  {
   "cell_type": "code",
   "execution_count": null,
   "metadata": {},
   "outputs": [],
   "source": []
  },
  {
   "cell_type": "code",
   "execution_count": null,
   "metadata": {},
   "outputs": [],
   "source": []
  },
  {
   "cell_type": "code",
   "execution_count": null,
   "metadata": {},
   "outputs": [],
   "source": []
  },
  {
   "cell_type": "code",
   "execution_count": null,
   "metadata": {},
   "outputs": [],
   "source": []
  }
 ],
 "metadata": {
  "kernelspec": {
   "display_name": "Python 3",
   "language": "python",
   "name": "python3"
  },
  "language_info": {
   "codemirror_mode": {
    "name": "ipython",
    "version": 3
   },
   "file_extension": ".py",
   "mimetype": "text/x-python",
   "name": "python",
   "nbconvert_exporter": "python",
   "pygments_lexer": "ipython3",
   "version": "3.8.3"
  }
 },
 "nbformat": 4,
 "nbformat_minor": 4
}
